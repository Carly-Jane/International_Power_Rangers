{
 "cells": [
  {
   "cell_type": "code",
   "execution_count": 1,
   "metadata": {},
   "outputs": [],
   "source": [
    "# Dependencies and Setup\n",
    "import matplotlib.pyplot as plt\n",
    "import pandas as pd\n",
    "import numpy as np\n",
    "import requests\n",
    "import gmaps\n",
    "import os\n",
    "import json\n",
    "\n",
    "# Import API key\n",
    "from config import g_key"
   ]
  },
  {
   "cell_type": "code",
   "execution_count": 2,
   "metadata": {},
   "outputs": [],
   "source": [
    "# Read .csv file created from Pwer Plant Data Developing Countries data\n",
    "PowerPlantData = pd.read_csv(\"OutputData/Power_Plant_Data_Developed.csv\")"
   ]
  },
  {
   "cell_type": "code",
   "execution_count": 3,
   "metadata": {},
   "outputs": [
    {
     "data": {
      "text/html": [
       "<div>\n",
       "<style scoped>\n",
       "    .dataframe tbody tr th:only-of-type {\n",
       "        vertical-align: middle;\n",
       "    }\n",
       "\n",
       "    .dataframe tbody tr th {\n",
       "        vertical-align: top;\n",
       "    }\n",
       "\n",
       "    .dataframe thead th {\n",
       "        text-align: right;\n",
       "    }\n",
       "</style>\n",
       "<table border=\"1\" class=\"dataframe\">\n",
       "  <thead>\n",
       "    <tr style=\"text-align: right;\">\n",
       "      <th></th>\n",
       "      <th>Country Code</th>\n",
       "      <th>Country Name</th>\n",
       "      <th>Power Plant Name</th>\n",
       "      <th>Power Plant Capacity(MWh)</th>\n",
       "      <th>Latitude</th>\n",
       "      <th>Longitude</th>\n",
       "      <th>Primary Fuel</th>\n",
       "      <th>GNI</th>\n",
       "      <th>Population</th>\n",
       "      <th>Country Status</th>\n",
       "    </tr>\n",
       "  </thead>\n",
       "  <tbody>\n",
       "    <tr>\n",
       "      <th>0</th>\n",
       "      <td>AUS</td>\n",
       "      <td>Australia</td>\n",
       "      <td>Adelaide Showgrounds</td>\n",
       "      <td>1.0</td>\n",
       "      <td>-34.9453</td>\n",
       "      <td>138.5882</td>\n",
       "      <td>Solar</td>\n",
       "      <td>53690.0</td>\n",
       "      <td>25687041.0</td>\n",
       "      <td>Developed</td>\n",
       "    </tr>\n",
       "    <tr>\n",
       "      <th>1</th>\n",
       "      <td>AUS</td>\n",
       "      <td>Australia</td>\n",
       "      <td>Albany Wind Farm</td>\n",
       "      <td>21.6</td>\n",
       "      <td>-35.0641</td>\n",
       "      <td>117.7977</td>\n",
       "      <td>Wind</td>\n",
       "      <td>53690.0</td>\n",
       "      <td>25687041.0</td>\n",
       "      <td>Developed</td>\n",
       "    </tr>\n",
       "    <tr>\n",
       "      <th>2</th>\n",
       "      <td>AUS</td>\n",
       "      <td>Australia</td>\n",
       "      <td>Amcor Gawler</td>\n",
       "      <td>4.0</td>\n",
       "      <td>-34.5509</td>\n",
       "      <td>138.7659</td>\n",
       "      <td>Oil</td>\n",
       "      <td>53690.0</td>\n",
       "      <td>25687041.0</td>\n",
       "      <td>Developed</td>\n",
       "    </tr>\n",
       "    <tr>\n",
       "      <th>3</th>\n",
       "      <td>AUS</td>\n",
       "      <td>Australia</td>\n",
       "      <td>Angaston</td>\n",
       "      <td>50.0</td>\n",
       "      <td>-34.5034</td>\n",
       "      <td>139.0246</td>\n",
       "      <td>Oil</td>\n",
       "      <td>53690.0</td>\n",
       "      <td>25687041.0</td>\n",
       "      <td>Developed</td>\n",
       "    </tr>\n",
       "    <tr>\n",
       "      <th>4</th>\n",
       "      <td>AUS</td>\n",
       "      <td>Australia</td>\n",
       "      <td>Anglesea</td>\n",
       "      <td>165.0</td>\n",
       "      <td>-38.3861</td>\n",
       "      <td>144.1828</td>\n",
       "      <td>Coal</td>\n",
       "      <td>53690.0</td>\n",
       "      <td>25687041.0</td>\n",
       "      <td>Developed</td>\n",
       "    </tr>\n",
       "  </tbody>\n",
       "</table>\n",
       "</div>"
      ],
      "text/plain": [
       "  Country Code Country Name      Power Plant Name  Power Plant Capacity(MWh)  \\\n",
       "0          AUS    Australia  Adelaide Showgrounds                        1.0   \n",
       "1          AUS    Australia      Albany Wind Farm                       21.6   \n",
       "2          AUS    Australia          Amcor Gawler                        4.0   \n",
       "3          AUS    Australia              Angaston                       50.0   \n",
       "4          AUS    Australia              Anglesea                      165.0   \n",
       "\n",
       "   Latitude  Longitude Primary Fuel      GNI  Population Country Status  \n",
       "0  -34.9453   138.5882        Solar  53690.0  25687041.0      Developed  \n",
       "1  -35.0641   117.7977         Wind  53690.0  25687041.0      Developed  \n",
       "2  -34.5509   138.7659          Oil  53690.0  25687041.0      Developed  \n",
       "3  -34.5034   139.0246          Oil  53690.0  25687041.0      Developed  \n",
       "4  -38.3861   144.1828         Coal  53690.0  25687041.0      Developed  "
      ]
     },
     "execution_count": 3,
     "metadata": {},
     "output_type": "execute_result"
    }
   ],
   "source": [
    "# Display Power Plant data frame\n",
    "PowerPlantData.head()"
   ]
  },
  {
   "cell_type": "code",
   "execution_count": 4,
   "metadata": {},
   "outputs": [
    {
     "name": "stdout",
     "output_type": "stream",
     "text": [
      "<class 'pandas.core.frame.DataFrame'>\n",
      "RangeIndex: 22757 entries, 0 to 22756\n",
      "Data columns (total 10 columns):\n",
      " #   Column                     Non-Null Count  Dtype  \n",
      "---  ------                     --------------  -----  \n",
      " 0   Country Code               22757 non-null  object \n",
      " 1   Country Name               22757 non-null  object \n",
      " 2   Power Plant Name           22757 non-null  object \n",
      " 3   Power Plant Capacity(MWh)  22757 non-null  float64\n",
      " 4   Latitude                   22757 non-null  float64\n",
      " 5   Longitude                  22757 non-null  float64\n",
      " 6   Primary Fuel               22757 non-null  object \n",
      " 7   GNI                        22757 non-null  float64\n",
      " 8   Population                 22757 non-null  float64\n",
      " 9   Country Status             22757 non-null  object \n",
      "dtypes: float64(5), object(5)\n",
      "memory usage: 1.7+ MB\n"
     ]
    }
   ],
   "source": [
    "# Display datatypes\n",
    "PowerPlantData.info()"
   ]
  },
  {
   "cell_type": "code",
   "execution_count": 5,
   "metadata": {},
   "outputs": [
    {
     "name": "stdout",
     "output_type": "stream",
     "text": [
      "22757\n"
     ]
    },
    {
     "data": {
      "text/html": [
       "<div>\n",
       "<style scoped>\n",
       "    .dataframe tbody tr th:only-of-type {\n",
       "        vertical-align: middle;\n",
       "    }\n",
       "\n",
       "    .dataframe tbody tr th {\n",
       "        vertical-align: top;\n",
       "    }\n",
       "\n",
       "    .dataframe thead th {\n",
       "        text-align: right;\n",
       "    }\n",
       "</style>\n",
       "<table border=\"1\" class=\"dataframe\">\n",
       "  <thead>\n",
       "    <tr style=\"text-align: right;\">\n",
       "      <th></th>\n",
       "      <th>Country Name</th>\n",
       "      <th>Latitude</th>\n",
       "      <th>Longitude</th>\n",
       "      <th>Primary Fuel</th>\n",
       "    </tr>\n",
       "  </thead>\n",
       "  <tbody>\n",
       "    <tr>\n",
       "      <th>0</th>\n",
       "      <td>Australia</td>\n",
       "      <td>-34.9453</td>\n",
       "      <td>138.5882</td>\n",
       "      <td>Solar</td>\n",
       "    </tr>\n",
       "    <tr>\n",
       "      <th>1</th>\n",
       "      <td>Australia</td>\n",
       "      <td>-35.0641</td>\n",
       "      <td>117.7977</td>\n",
       "      <td>Wind</td>\n",
       "    </tr>\n",
       "    <tr>\n",
       "      <th>2</th>\n",
       "      <td>Australia</td>\n",
       "      <td>-34.5509</td>\n",
       "      <td>138.7659</td>\n",
       "      <td>Oil</td>\n",
       "    </tr>\n",
       "    <tr>\n",
       "      <th>3</th>\n",
       "      <td>Australia</td>\n",
       "      <td>-34.5034</td>\n",
       "      <td>139.0246</td>\n",
       "      <td>Oil</td>\n",
       "    </tr>\n",
       "    <tr>\n",
       "      <th>4</th>\n",
       "      <td>Australia</td>\n",
       "      <td>-38.3861</td>\n",
       "      <td>144.1828</td>\n",
       "      <td>Coal</td>\n",
       "    </tr>\n",
       "  </tbody>\n",
       "</table>\n",
       "</div>"
      ],
      "text/plain": [
       "  Country Name  Latitude  Longitude Primary Fuel\n",
       "0    Australia  -34.9453   138.5882        Solar\n",
       "1    Australia  -35.0641   117.7977         Wind\n",
       "2    Australia  -34.5509   138.7659          Oil\n",
       "3    Australia  -34.5034   139.0246          Oil\n",
       "4    Australia  -38.3861   144.1828         Coal"
      ]
     },
     "execution_count": 5,
     "metadata": {},
     "output_type": "execute_result"
    }
   ],
   "source": [
    "# Reduce data frame to columns Country Name, \"Latitude\", \"Longitude\", \"Primary Fuel\"\n",
    "PowerPlantData_Reduced = PowerPlantData[[\"Country Name\", \"Latitude\", \"Longitude\", \"Primary Fuel\"]]\n",
    "\n",
    "# Display data frame\n",
    "print(len(PowerPlantData_Reduced))\n",
    "PowerPlantData_Reduced.head()"
   ]
  },
  {
   "cell_type": "code",
   "execution_count": 9,
   "metadata": {},
   "outputs": [
    {
     "data": {
      "application/vnd.jupyter.widget-view+json": {
       "model_id": "240986121a9947ee9f0e3cfc687130d3",
       "version_major": 2,
       "version_minor": 0
      },
      "text/plain": [
       "Figure(layout=FigureLayout(height='420px'))"
      ]
     },
     "metadata": {},
     "output_type": "display_data"
    }
   ],
   "source": [
    "# Create gmaps with API key\n",
    "gmaps.configure(g_key)\n",
    "\n",
    "# Extract 'Hydro' and 'Solar' Primary Fuel Source \n",
    "PowerPlantData_Hydro = PowerPlantData_Reduced[PowerPlantData_Reduced[\"Primary Fuel\"] == \"Hydro\"]\n",
    "PowerPlantData_Solar = PowerPlantData[PowerPlantData[\"Primary Fuel\"] == \"Solar\"]\n",
    "\n",
    "# Store 'Latitude' and 'Longitude' into  locations for Hydro\n",
    "locations = PowerPlantData_Hydro[[\"Latitude\", \"Longitude\"]].astype(float)\n",
    "\n",
    "# Store 'Latitude' and 'Longitude' into  locations for Solar\n",
    "locations_Solar = PowerPlantData_Solar[[\"Latitude\", \"Longitude\"]].astype(float)\n",
    "\n",
    "# Create Hydro layer\n",
    "Hydro_Layer = gmaps.symbol_layer(\n",
    "    locations, fill_color='rgba(0, 140, 255, 1)',\n",
    "    stroke_color='rgba(0, 140, 255, 1)', scale=1\n",
    ")\n",
    "\n",
    "# Create Solar layer\n",
    "Solar_Layer = gmaps.symbol_layer(\n",
    "    locations_Solar, fill_color='rgba(0, 255, 205, 0.1)',\n",
    "    stroke_color='rgba(0, 255, 205, 0.1)', scale=1\n",
    ")\n",
    "\n",
    "# Create a map\n",
    "fig = gmaps.figure(map_type=\"SATELLITE\",\n",
    "    center=[17.133932434766733, 16.103938729508073],\n",
    "    zoom_level=1.6\n",
    ")\n",
    "\n",
    "# Add Hydro and Solar layer to map\n",
    "fig.add_layer(Hydro_Layer)\n",
    "fig.add_layer(Solar_Layer)\n",
    "\n",
    "# Display map with layers\n",
    "fig"
   ]
  }
 ],
 "metadata": {
  "interpreter": {
   "hash": "b3b3d65c85da5bd97121566744a7d1e5f11745705eb614f561337a66687484e1"
  },
  "kernelspec": {
   "display_name": "Python 3.6.10 ('PythonData')",
   "language": "python",
   "name": "python3"
  },
  "language_info": {
   "codemirror_mode": {
    "name": "ipython",
    "version": 3
   },
   "file_extension": ".py",
   "mimetype": "text/x-python",
   "name": "python",
   "nbconvert_exporter": "python",
   "pygments_lexer": "ipython3",
   "version": "3.6.10"
  },
  "orig_nbformat": 4
 },
 "nbformat": 4,
 "nbformat_minor": 2
}
