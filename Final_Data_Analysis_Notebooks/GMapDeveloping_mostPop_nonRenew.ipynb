{
 "cells": [
  {
   "cell_type": "code",
   "execution_count": 1,
   "metadata": {},
   "outputs": [],
   "source": [
    "# Dependencies and Setup\n",
    "import matplotlib.pyplot as plt\n",
    "import pandas as pd\n",
    "import numpy as np\n",
    "import requests\n",
    "import gmaps\n",
    "import os\n",
    "import json\n",
    "\n",
    "# Import API key\n",
    "from config import g_key"
   ]
  },
  {
   "cell_type": "code",
   "execution_count": 2,
   "metadata": {},
   "outputs": [],
   "source": [
    "# Read .csv file created from Pwer Plant Data Developing Countries data\n",
    "PowerPlantData = pd.read_csv(\"OutputData/Power_Plant_Data_Developing.csv\")"
   ]
  },
  {
   "cell_type": "code",
   "execution_count": 3,
   "metadata": {},
   "outputs": [
    {
     "data": {
      "text/html": [
       "<div>\n",
       "<style scoped>\n",
       "    .dataframe tbody tr th:only-of-type {\n",
       "        vertical-align: middle;\n",
       "    }\n",
       "\n",
       "    .dataframe tbody tr th {\n",
       "        vertical-align: top;\n",
       "    }\n",
       "\n",
       "    .dataframe thead th {\n",
       "        text-align: right;\n",
       "    }\n",
       "</style>\n",
       "<table border=\"1\" class=\"dataframe\">\n",
       "  <thead>\n",
       "    <tr style=\"text-align: right;\">\n",
       "      <th></th>\n",
       "      <th>Country Code</th>\n",
       "      <th>Country Name</th>\n",
       "      <th>Power Plant Name</th>\n",
       "      <th>Power Plant Capacity(MWh)</th>\n",
       "      <th>Latitude</th>\n",
       "      <th>Longitude</th>\n",
       "      <th>Primary Fuel</th>\n",
       "      <th>GNI</th>\n",
       "      <th>Population</th>\n",
       "      <th>Country Status</th>\n",
       "    </tr>\n",
       "  </thead>\n",
       "  <tbody>\n",
       "    <tr>\n",
       "      <th>0</th>\n",
       "      <td>AFG</td>\n",
       "      <td>Afghanistan</td>\n",
       "      <td>Kajaki Hydroelectric Power Plant Afghanistan</td>\n",
       "      <td>33.0</td>\n",
       "      <td>32.322</td>\n",
       "      <td>65.1190</td>\n",
       "      <td>Hydro</td>\n",
       "      <td>500.0</td>\n",
       "      <td>38928341.0</td>\n",
       "      <td>Developing</td>\n",
       "    </tr>\n",
       "    <tr>\n",
       "      <th>1</th>\n",
       "      <td>AFG</td>\n",
       "      <td>Afghanistan</td>\n",
       "      <td>Kandahar DOG</td>\n",
       "      <td>10.0</td>\n",
       "      <td>31.670</td>\n",
       "      <td>65.7950</td>\n",
       "      <td>Solar</td>\n",
       "      <td>500.0</td>\n",
       "      <td>38928341.0</td>\n",
       "      <td>Developing</td>\n",
       "    </tr>\n",
       "    <tr>\n",
       "      <th>2</th>\n",
       "      <td>AFG</td>\n",
       "      <td>Afghanistan</td>\n",
       "      <td>Kandahar JOL</td>\n",
       "      <td>10.0</td>\n",
       "      <td>31.623</td>\n",
       "      <td>65.7920</td>\n",
       "      <td>Solar</td>\n",
       "      <td>500.0</td>\n",
       "      <td>38928341.0</td>\n",
       "      <td>Developing</td>\n",
       "    </tr>\n",
       "    <tr>\n",
       "      <th>3</th>\n",
       "      <td>AFG</td>\n",
       "      <td>Afghanistan</td>\n",
       "      <td>Mahipar Hydroelectric Power Plant Afghanistan</td>\n",
       "      <td>66.0</td>\n",
       "      <td>34.556</td>\n",
       "      <td>69.4787</td>\n",
       "      <td>Hydro</td>\n",
       "      <td>500.0</td>\n",
       "      <td>38928341.0</td>\n",
       "      <td>Developing</td>\n",
       "    </tr>\n",
       "    <tr>\n",
       "      <th>4</th>\n",
       "      <td>AFG</td>\n",
       "      <td>Afghanistan</td>\n",
       "      <td>Naghlu Dam Hydroelectric Power Plant Afghanistan</td>\n",
       "      <td>100.0</td>\n",
       "      <td>34.641</td>\n",
       "      <td>69.7170</td>\n",
       "      <td>Hydro</td>\n",
       "      <td>500.0</td>\n",
       "      <td>38928341.0</td>\n",
       "      <td>Developing</td>\n",
       "    </tr>\n",
       "  </tbody>\n",
       "</table>\n",
       "</div>"
      ],
      "text/plain": [
       "  Country Code Country Name                                  Power Plant Name  \\\n",
       "0          AFG  Afghanistan      Kajaki Hydroelectric Power Plant Afghanistan   \n",
       "1          AFG  Afghanistan                                      Kandahar DOG   \n",
       "2          AFG  Afghanistan                                      Kandahar JOL   \n",
       "3          AFG  Afghanistan     Mahipar Hydroelectric Power Plant Afghanistan   \n",
       "4          AFG  Afghanistan  Naghlu Dam Hydroelectric Power Plant Afghanistan   \n",
       "\n",
       "   Power Plant Capacity(MWh)  Latitude  Longitude Primary Fuel    GNI  \\\n",
       "0                       33.0    32.322    65.1190        Hydro  500.0   \n",
       "1                       10.0    31.670    65.7950        Solar  500.0   \n",
       "2                       10.0    31.623    65.7920        Solar  500.0   \n",
       "3                       66.0    34.556    69.4787        Hydro  500.0   \n",
       "4                      100.0    34.641    69.7170        Hydro  500.0   \n",
       "\n",
       "   Population Country Status  \n",
       "0  38928341.0     Developing  \n",
       "1  38928341.0     Developing  \n",
       "2  38928341.0     Developing  \n",
       "3  38928341.0     Developing  \n",
       "4  38928341.0     Developing  "
      ]
     },
     "execution_count": 3,
     "metadata": {},
     "output_type": "execute_result"
    }
   ],
   "source": [
    "# Display Power Plant data frame\n",
    "PowerPlantData.head()"
   ]
  },
  {
   "cell_type": "code",
   "execution_count": 4,
   "metadata": {},
   "outputs": [
    {
     "name": "stdout",
     "output_type": "stream",
     "text": [
      "<class 'pandas.core.frame.DataFrame'>\n",
      "RangeIndex: 11998 entries, 0 to 11997\n",
      "Data columns (total 10 columns):\n",
      " #   Column                     Non-Null Count  Dtype  \n",
      "---  ------                     --------------  -----  \n",
      " 0   Country Code               11998 non-null  object \n",
      " 1   Country Name               11998 non-null  object \n",
      " 2   Power Plant Name           11998 non-null  object \n",
      " 3   Power Plant Capacity(MWh)  11998 non-null  float64\n",
      " 4   Latitude                   11998 non-null  float64\n",
      " 5   Longitude                  11998 non-null  float64\n",
      " 6   Primary Fuel               11998 non-null  object \n",
      " 7   GNI                        11998 non-null  float64\n",
      " 8   Population                 11998 non-null  float64\n",
      " 9   Country Status             11998 non-null  object \n",
      "dtypes: float64(5), object(5)\n",
      "memory usage: 937.5+ KB\n"
     ]
    }
   ],
   "source": [
    "# Display datatypes\n",
    "PowerPlantData.info()"
   ]
  },
  {
   "cell_type": "code",
   "execution_count": 5,
   "metadata": {},
   "outputs": [
    {
     "name": "stdout",
     "output_type": "stream",
     "text": [
      "11998\n"
     ]
    },
    {
     "data": {
      "text/html": [
       "<div>\n",
       "<style scoped>\n",
       "    .dataframe tbody tr th:only-of-type {\n",
       "        vertical-align: middle;\n",
       "    }\n",
       "\n",
       "    .dataframe tbody tr th {\n",
       "        vertical-align: top;\n",
       "    }\n",
       "\n",
       "    .dataframe thead th {\n",
       "        text-align: right;\n",
       "    }\n",
       "</style>\n",
       "<table border=\"1\" class=\"dataframe\">\n",
       "  <thead>\n",
       "    <tr style=\"text-align: right;\">\n",
       "      <th></th>\n",
       "      <th>Country Name</th>\n",
       "      <th>Latitude</th>\n",
       "      <th>Longitude</th>\n",
       "      <th>Primary Fuel</th>\n",
       "    </tr>\n",
       "  </thead>\n",
       "  <tbody>\n",
       "    <tr>\n",
       "      <th>0</th>\n",
       "      <td>Afghanistan</td>\n",
       "      <td>32.322</td>\n",
       "      <td>65.1190</td>\n",
       "      <td>Hydro</td>\n",
       "    </tr>\n",
       "    <tr>\n",
       "      <th>1</th>\n",
       "      <td>Afghanistan</td>\n",
       "      <td>31.670</td>\n",
       "      <td>65.7950</td>\n",
       "      <td>Solar</td>\n",
       "    </tr>\n",
       "    <tr>\n",
       "      <th>2</th>\n",
       "      <td>Afghanistan</td>\n",
       "      <td>31.623</td>\n",
       "      <td>65.7920</td>\n",
       "      <td>Solar</td>\n",
       "    </tr>\n",
       "    <tr>\n",
       "      <th>3</th>\n",
       "      <td>Afghanistan</td>\n",
       "      <td>34.556</td>\n",
       "      <td>69.4787</td>\n",
       "      <td>Hydro</td>\n",
       "    </tr>\n",
       "    <tr>\n",
       "      <th>4</th>\n",
       "      <td>Afghanistan</td>\n",
       "      <td>34.641</td>\n",
       "      <td>69.7170</td>\n",
       "      <td>Hydro</td>\n",
       "    </tr>\n",
       "  </tbody>\n",
       "</table>\n",
       "</div>"
      ],
      "text/plain": [
       "  Country Name  Latitude  Longitude Primary Fuel\n",
       "0  Afghanistan    32.322    65.1190        Hydro\n",
       "1  Afghanistan    31.670    65.7950        Solar\n",
       "2  Afghanistan    31.623    65.7920        Solar\n",
       "3  Afghanistan    34.556    69.4787        Hydro\n",
       "4  Afghanistan    34.641    69.7170        Hydro"
      ]
     },
     "execution_count": 5,
     "metadata": {},
     "output_type": "execute_result"
    }
   ],
   "source": [
    "# Reduce data frame to columns Country Name, \"Latitude\", \"Longitude\", \"Primary Fuel\"\n",
    "PowerPlantData_Reduced = PowerPlantData[[\"Country Name\", \"Latitude\", \"Longitude\", \"Primary Fuel\"]]\n",
    "\n",
    "# Display data frame\n",
    "print(len(PowerPlantData_Reduced))\n",
    "PowerPlantData_Reduced.head()"
   ]
  },
  {
   "cell_type": "code",
   "execution_count": 8,
   "metadata": {},
   "outputs": [
    {
     "data": {
      "application/vnd.jupyter.widget-view+json": {
       "model_id": "4bb256ef7f4748dcb8070c656f8836bb",
       "version_major": 2,
       "version_minor": 0
      },
      "text/plain": [
       "Figure(layout=FigureLayout(height='420px'))"
      ]
     },
     "metadata": {},
     "output_type": "display_data"
    }
   ],
   "source": [
    "# Create gmaps with API key\n",
    "gmaps.configure(g_key)\n",
    "\n",
    "# Extract 'Coal' and 'Gas' Primary Fuel Source \n",
    "PowerPlantData_Coal = PowerPlantData_Reduced[PowerPlantData_Reduced[\"Primary Fuel\"] == \"Coal\"]\n",
    "PowerPlantData_Gas = PowerPlantData[PowerPlantData[\"Primary Fuel\"] == \"Gas\"]\n",
    "\n",
    "# Store 'Latitude' and 'Longitude' into  locations for Coal\n",
    "locations = PowerPlantData_Coal[[\"Latitude\", \"Longitude\"]].astype(float)\n",
    "\n",
    "# Store 'Latitude' and 'Longitude' into  locations for Gas\n",
    "locations_Gas = PowerPlantData_Gas[[\"Latitude\", \"Longitude\"]].astype(float)\n",
    "\n",
    "# Create Coal layer\n",
    "Coal_Layer = gmaps.symbol_layer(\n",
    "    locations, fill_color='rgba(227, 10, 172, 1)',\n",
    "    stroke_color='rgba(227, 10, 172, 1)', scale=1\n",
    ")\n",
    "\n",
    "# Create Gas layer\n",
    "Gas_Layer = gmaps.symbol_layer(\n",
    "    locations_Gas, fill_color='rgba(255, 168, 84, 1)',\n",
    "    stroke_color='rgba(255, 168, 84, 1)', scale=1\n",
    ")\n",
    "\n",
    "# Create a map\n",
    "fig = gmaps.figure(map_type=\"SATELLITE\",\n",
    "    center=[17.133932434766733, 16.103938729508073],\n",
    "    zoom_level=1.6\n",
    ")\n",
    "\n",
    "# Add Coal and Gas layer to map\n",
    "fig.add_layer(Coal_Layer)\n",
    "fig.add_layer(Gas_Layer)\n",
    "\n",
    "# Display map with layers\n",
    "fig"
   ]
  }
 ],
 "metadata": {
  "interpreter": {
   "hash": "b3b3d65c85da5bd97121566744a7d1e5f11745705eb614f561337a66687484e1"
  },
  "kernelspec": {
   "display_name": "Python 3.6.10 ('PythonData')",
   "language": "python",
   "name": "python3"
  },
  "language_info": {
   "codemirror_mode": {
    "name": "ipython",
    "version": 3
   },
   "file_extension": ".py",
   "mimetype": "text/x-python",
   "name": "python",
   "nbconvert_exporter": "python",
   "pygments_lexer": "ipython3",
   "version": "3.6.10"
  },
  "orig_nbformat": 4
 },
 "nbformat": 4,
 "nbformat_minor": 2
}
